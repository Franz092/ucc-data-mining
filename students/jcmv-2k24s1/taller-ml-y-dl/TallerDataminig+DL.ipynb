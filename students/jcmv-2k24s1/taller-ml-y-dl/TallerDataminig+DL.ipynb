{
 "cells": [
  {
   "cell_type": "markdown",
   "metadata": {},
   "source": [
    "# Taller Dataminig – Deep Learning\n",
    "\n",
    "Basado en la siguiente estructura de datos de un archivo .csv, realizar los siguientes ejercicios de DeepLearning en el lenguaje python y librerias como Scikit Learn, Keras, Shap, Pytorch: \n",
    "\n",
    "CASE#,DATE OF OCCURRENCE,BLOCK, IUCR, PRIMARY DESCRIPTION, SECONDARY DESCRIPTION, LOCATION DESCRIPTION,ARREST, DOMESTIC,BEAT,WARD,FBI CD,X COORDINATE,Y COORDINATE,LATITUDE,LONGITUDE,LOCATION\n",
    "JG406115,08/31/2023 07:00:00 PM,042XX W MARQUETTE RD,0498,BATTERY,\"AGG. DOMESTIC BATTERY - HANDS, FISTS, FEET, SERIOUS INJURY\",APARTMENT,Y,Y,833,23,04B,1149062,1859830,41.771296232,-87.729149311,\"(41.771296232, -87.729149311)\".\n",
    "\n",
    "Archivo de datos en repo ucc-datamining: ucc-data-mining/taller-dl/data.csv"
   ]
  },
  {
   "cell_type": "markdown",
   "metadata": {},
   "source": [
    "## 1. Predicción de Clasificación Temporal con Redes Neuronales Recurrentes (RNN)\n",
    "\n",
    "* Este ejercicio implica predecir la ocurrencia de un cierto tipo de crimen en función de la fecha y hora."
   ]
  },
  {
   "cell_type": "code",
   "execution_count": 2,
   "metadata": {},
   "outputs": [
    {
     "name": "stderr",
     "output_type": "stream",
     "text": [
      "/tmp/ipykernel_486/2545197461.py:9: UserWarning: Could not infer format, so each element will be parsed individually, falling back to `dateutil`. To ensure parsing is consistent and as-expected, please specify a format.\n",
      "  data['DATE OF OCCURRENCE'] = pd.to_datetime(data['DATE OF OCCURRENCE'])\n",
      "/opt/conda/lib/python3.11/site-packages/keras/src/layers/rnn/rnn.py:204: UserWarning: Do not pass an `input_shape`/`input_dim` argument to a layer. When using Sequential models, prefer using an `Input(shape)` object as the first layer in the model instead.\n",
      "  super().__init__(**kwargs)\n"
     ]
    },
    {
     "name": "stdout",
     "output_type": "stream",
     "text": [
      "Epoch 1/20\n",
      "\u001b[1m6469/6469\u001b[0m \u001b[32m━━━━━━━━━━━━━━━━━━━━\u001b[0m\u001b[37m\u001b[0m \u001b[1m71s\u001b[0m 10ms/step - accuracy: 0.2199 - loss: 2.4236 - val_accuracy: 0.2278 - val_loss: 2.3427\n",
      "Epoch 2/20\n",
      "\u001b[1m6469/6469\u001b[0m \u001b[32m━━━━━━━━━━━━━━━━━━━━\u001b[0m\u001b[37m\u001b[0m \u001b[1m98s\u001b[0m 15ms/step - accuracy: 0.2274 - loss: 2.3414 - val_accuracy: 0.2279 - val_loss: 2.3362\n",
      "Epoch 3/20\n",
      "\u001b[1m6469/6469\u001b[0m \u001b[32m━━━━━━━━━━━━━━━━━━━━\u001b[0m\u001b[37m\u001b[0m \u001b[1m72s\u001b[0m 11ms/step - accuracy: 0.2268 - loss: 2.3399 - val_accuracy: 0.2291 - val_loss: 2.3305\n",
      "Epoch 4/20\n",
      "\u001b[1m6469/6469\u001b[0m \u001b[32m━━━━━━━━━━━━━━━━━━━━\u001b[0m\u001b[37m\u001b[0m \u001b[1m115s\u001b[0m 18ms/step - accuracy: 0.2289 - loss: 2.3330 - val_accuracy: 0.2299 - val_loss: 2.3293\n",
      "Epoch 5/20\n",
      "\u001b[1m6469/6469\u001b[0m \u001b[32m━━━━━━━━━━━━━━━━━━━━\u001b[0m\u001b[37m\u001b[0m \u001b[1m120s\u001b[0m 19ms/step - accuracy: 0.2290 - loss: 2.3293 - val_accuracy: 0.2300 - val_loss: 2.3255\n",
      "Epoch 6/20\n",
      "\u001b[1m6469/6469\u001b[0m \u001b[32m━━━━━━━━━━━━━━━━━━━━\u001b[0m\u001b[37m\u001b[0m \u001b[1m73s\u001b[0m 11ms/step - accuracy: 0.2282 - loss: 2.3292 - val_accuracy: 0.2308 - val_loss: 2.3250\n",
      "Epoch 7/20\n",
      "\u001b[1m6469/6469\u001b[0m \u001b[32m━━━━━━━━━━━━━━━━━━━━\u001b[0m\u001b[37m\u001b[0m \u001b[1m114s\u001b[0m 16ms/step - accuracy: 0.2292 - loss: 2.3288 - val_accuracy: 0.2310 - val_loss: 2.3250\n",
      "Epoch 8/20\n",
      "\u001b[1m6469/6469\u001b[0m \u001b[32m━━━━━━━━━━━━━━━━━━━━\u001b[0m\u001b[37m\u001b[0m \u001b[1m69s\u001b[0m 11ms/step - accuracy: 0.2308 - loss: 2.3238 - val_accuracy: 0.2306 - val_loss: 2.3254\n",
      "Epoch 9/20\n",
      "\u001b[1m6469/6469\u001b[0m \u001b[32m━━━━━━━━━━━━━━━━━━━━\u001b[0m\u001b[37m\u001b[0m \u001b[1m109s\u001b[0m 17ms/step - accuracy: 0.2300 - loss: 2.3273 - val_accuracy: 0.2307 - val_loss: 2.3241\n",
      "Epoch 10/20\n",
      "\u001b[1m6469/6469\u001b[0m \u001b[32m━━━━━━━━━━━━━━━━━━━━\u001b[0m\u001b[37m\u001b[0m \u001b[1m66s\u001b[0m 10ms/step - accuracy: 0.2319 - loss: 2.3274 - val_accuracy: 0.2309 - val_loss: 2.3237\n",
      "Epoch 11/20\n",
      "\u001b[1m6469/6469\u001b[0m \u001b[32m━━━━━━━━━━━━━━━━━━━━\u001b[0m\u001b[37m\u001b[0m \u001b[1m47s\u001b[0m 7ms/step - accuracy: 0.2298 - loss: 2.3273 - val_accuracy: 0.2312 - val_loss: 2.3228\n",
      "Epoch 12/20\n",
      "\u001b[1m6469/6469\u001b[0m \u001b[32m━━━━━━━━━━━━━━━━━━━━\u001b[0m\u001b[37m\u001b[0m \u001b[1m43s\u001b[0m 7ms/step - accuracy: 0.2301 - loss: 2.3268 - val_accuracy: 0.2305 - val_loss: 2.3238\n",
      "Epoch 13/20\n",
      "\u001b[1m6469/6469\u001b[0m \u001b[32m━━━━━━━━━━━━━━━━━━━━\u001b[0m\u001b[37m\u001b[0m \u001b[1m42s\u001b[0m 6ms/step - accuracy: 0.2304 - loss: 2.3236 - val_accuracy: 0.2313 - val_loss: 2.3237\n",
      "Epoch 14/20\n",
      "\u001b[1m6469/6469\u001b[0m \u001b[32m━━━━━━━━━━━━━━━━━━━━\u001b[0m\u001b[37m\u001b[0m \u001b[1m43s\u001b[0m 7ms/step - accuracy: 0.2300 - loss: 2.3275 - val_accuracy: 0.2320 - val_loss: 2.3215\n",
      "Epoch 15/20\n",
      "\u001b[1m6469/6469\u001b[0m \u001b[32m━━━━━━━━━━━━━━━━━━━━\u001b[0m\u001b[37m\u001b[0m \u001b[1m45s\u001b[0m 7ms/step - accuracy: 0.2296 - loss: 2.3266 - val_accuracy: 0.2311 - val_loss: 2.3243\n",
      "Epoch 16/20\n",
      "\u001b[1m6469/6469\u001b[0m \u001b[32m━━━━━━━━━━━━━━━━━━━━\u001b[0m\u001b[37m\u001b[0m \u001b[1m84s\u001b[0m 7ms/step - accuracy: 0.2317 - loss: 2.3240 - val_accuracy: 0.2298 - val_loss: 2.3221\n",
      "Epoch 17/20\n",
      "\u001b[1m6469/6469\u001b[0m \u001b[32m━━━━━━━━━━━━━━━━━━━━\u001b[0m\u001b[37m\u001b[0m \u001b[1m43s\u001b[0m 7ms/step - accuracy: 0.2311 - loss: 2.3230 - val_accuracy: 0.2310 - val_loss: 2.3225\n",
      "Epoch 18/20\n",
      "\u001b[1m6469/6469\u001b[0m \u001b[32m━━━━━━━━━━━━━━━━━━━━\u001b[0m\u001b[37m\u001b[0m \u001b[1m45s\u001b[0m 7ms/step - accuracy: 0.2312 - loss: 2.3243 - val_accuracy: 0.2314 - val_loss: 2.3218\n",
      "Epoch 19/20\n",
      "\u001b[1m6469/6469\u001b[0m \u001b[32m━━━━━━━━━━━━━━━━━━━━\u001b[0m\u001b[37m\u001b[0m \u001b[1m44s\u001b[0m 7ms/step - accuracy: 0.2289 - loss: 2.3263 - val_accuracy: 0.2309 - val_loss: 2.3214\n",
      "Epoch 20/20\n",
      "\u001b[1m6469/6469\u001b[0m \u001b[32m━━━━━━━━━━━━━━━━━━━━\u001b[0m\u001b[37m\u001b[0m \u001b[1m73s\u001b[0m 11ms/step - accuracy: 0.2303 - loss: 2.3257 - val_accuracy: 0.2317 - val_loss: 2.3212\n"
     ]
    },
    {
     "data": {
      "text/plain": [
       "<keras.src.callbacks.history.History at 0x7f863f615fd0>"
      ]
     },
     "execution_count": 2,
     "metadata": {},
     "output_type": "execute_result"
    }
   ],
   "source": [
    "import pandas as pd\n",
    "from sklearn.model_selection import train_test_split\n",
    "from tensorflow.keras.models import Sequential\n",
    "from tensorflow.keras.layers import LSTM, Dense\n",
    "from sklearn.preprocessing import LabelEncoder, StandardScaler\n",
    "# Cargar los datos\n",
    "data = pd.read_csv('/home/jovyan/work/data.csv')\n",
    "# Preprocesamiento de datos\n",
    "data['DATE OF OCCURRENCE'] = pd.to_datetime(data['DATE OF OCCURRENCE'])\n",
    "data['HOUR'] = data['DATE OF OCCURRENCE'].dt.hour\n",
    "data['DAY_OF_WEEK'] = data['DATE OF OCCURRENCE'].dt.dayofweek\n",
    "data['MONTH'] = data['DATE OF OCCURRENCE'].dt.month\n",
    "# Seleccionar características y etiquetas\n",
    "X = data[['HOUR', 'DAY_OF_WEEK', 'MONTH']].values\n",
    "y = data['PRIMARY DESCRIPTION']\n",
    "# Codificar las etiquetas\n",
    "label_encoder = LabelEncoder()\n",
    "y = label_encoder.fit_transform(y)\n",
    "# Dividir los datos en conjuntos de entrenamiento y prueba\n",
    "X_train, X_test, y_train, y_test = train_test_split(X, y, test_size=0.2, random_state=42)\n",
    "# Escalar características\n",
    "scaler = StandardScaler()\n",
    "X_train = scaler.fit_transform(X_train)\n",
    "X_test = scaler.transform(X_test)\n",
    "# Construir la red neuronal recurrente (LSTM)\n",
    "model = Sequential([\n",
    " LSTM(64, input_shape=(X_train.shape[1], 1), activation='relu', return_sequences=True),\n",
    " LSTM(32, activation='relu'),\n",
    " Dense(len(label_encoder.classes_), activation='softmax')\n",
    "])\n",
    "# Compilar el modelo\n",
    "model.compile(optimizer='adam', loss='sparse_categorical_crossentropy', metrics=['accuracy'])\n",
    "# Ajustar el modelo\n",
    "model.fit(X_train, y_train, epochs=20, batch_size=32, validation_data=(X_test, y_test))"
   ]
  }
 ],
 "metadata": {
  "kernelspec": {
   "display_name": "Python 3 (ipykernel)",
   "language": "python",
   "name": "python3"
  },
  "language_info": {
   "codemirror_mode": {
    "name": "ipython",
    "version": 3
   },
   "file_extension": ".py",
   "mimetype": "text/x-python",
   "name": "python",
   "nbconvert_exporter": "python",
   "pygments_lexer": "ipython3",
   "version": "3.11.6"
  }
 },
 "nbformat": 4,
 "nbformat_minor": 2
}
